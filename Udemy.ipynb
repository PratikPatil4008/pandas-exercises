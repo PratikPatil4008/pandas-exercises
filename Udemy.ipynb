{
 "cells": [
  {
   "cell_type": "code",
   "execution_count": 2,
   "id": "b060ee96",
   "metadata": {},
   "outputs": [
    {
     "data": {
      "text/html": [
       "<div>\n",
       "<style scoped>\n",
       "    .dataframe tbody tr th:only-of-type {\n",
       "        vertical-align: middle;\n",
       "    }\n",
       "\n",
       "    .dataframe tbody tr th {\n",
       "        vertical-align: top;\n",
       "    }\n",
       "\n",
       "    .dataframe thead th {\n",
       "        text-align: right;\n",
       "    }\n",
       "</style>\n",
       "<table border=\"1\" class=\"dataframe\">\n",
       "  <thead>\n",
       "    <tr style=\"text-align: right;\">\n",
       "      <th></th>\n",
       "      <th>course_id</th>\n",
       "      <th>course_title</th>\n",
       "      <th>is_paid</th>\n",
       "      <th>price</th>\n",
       "      <th>num_subscribers</th>\n",
       "      <th>num_reviews</th>\n",
       "      <th>num_lectures</th>\n",
       "      <th>level</th>\n",
       "      <th>content_duration</th>\n",
       "      <th>published_timestamp</th>\n",
       "      <th>subject</th>\n",
       "    </tr>\n",
       "  </thead>\n",
       "  <tbody>\n",
       "    <tr>\n",
       "      <th>0</th>\n",
       "      <td>288942</td>\n",
       "      <td>#1 Piano Hand Coordination: Play 10th Ballad i...</td>\n",
       "      <td>True</td>\n",
       "      <td>35</td>\n",
       "      <td>3137</td>\n",
       "      <td>18</td>\n",
       "      <td>68</td>\n",
       "      <td>All Levels</td>\n",
       "      <td>1.5 hours</td>\n",
       "      <td>2014-09-18T05:07:05Z</td>\n",
       "      <td>Musical Instruments</td>\n",
       "    </tr>\n",
       "    <tr>\n",
       "      <th>1</th>\n",
       "      <td>1170074</td>\n",
       "      <td>#10 Hand Coordination - Transfer Chord Ballad ...</td>\n",
       "      <td>True</td>\n",
       "      <td>75</td>\n",
       "      <td>1593</td>\n",
       "      <td>1</td>\n",
       "      <td>41</td>\n",
       "      <td>Intermediate Level</td>\n",
       "      <td>1 hour</td>\n",
       "      <td>2017-04-12T19:06:34Z</td>\n",
       "      <td>Musical Instruments</td>\n",
       "    </tr>\n",
       "    <tr>\n",
       "      <th>2</th>\n",
       "      <td>1193886</td>\n",
       "      <td>#12 Hand Coordination: Let your Hands dance wi...</td>\n",
       "      <td>True</td>\n",
       "      <td>75</td>\n",
       "      <td>482</td>\n",
       "      <td>1</td>\n",
       "      <td>47</td>\n",
       "      <td>Intermediate Level</td>\n",
       "      <td>1.5 hours</td>\n",
       "      <td>2017-04-26T18:34:57Z</td>\n",
       "      <td>Musical Instruments</td>\n",
       "    </tr>\n",
       "    <tr>\n",
       "      <th>3</th>\n",
       "      <td>1116700</td>\n",
       "      <td>#4 Piano Hand Coordination: Fun Piano Runs in ...</td>\n",
       "      <td>True</td>\n",
       "      <td>75</td>\n",
       "      <td>850</td>\n",
       "      <td>3</td>\n",
       "      <td>43</td>\n",
       "      <td>Intermediate Level</td>\n",
       "      <td>1 hour</td>\n",
       "      <td>2017-02-21T23:48:18Z</td>\n",
       "      <td>Musical Instruments</td>\n",
       "    </tr>\n",
       "    <tr>\n",
       "      <th>4</th>\n",
       "      <td>1120410</td>\n",
       "      <td>#5  Piano Hand Coordination:  Piano Runs in 2 ...</td>\n",
       "      <td>True</td>\n",
       "      <td>75</td>\n",
       "      <td>940</td>\n",
       "      <td>3</td>\n",
       "      <td>32</td>\n",
       "      <td>Intermediate Level</td>\n",
       "      <td>37 mins</td>\n",
       "      <td>2017-02-21T23:44:49Z</td>\n",
       "      <td>Musical Instruments</td>\n",
       "    </tr>\n",
       "  </tbody>\n",
       "</table>\n",
       "</div>"
      ],
      "text/plain": [
       "   course_id                                       course_title  is_paid  \\\n",
       "0     288942  #1 Piano Hand Coordination: Play 10th Ballad i...     True   \n",
       "1    1170074  #10 Hand Coordination - Transfer Chord Ballad ...     True   \n",
       "2    1193886  #12 Hand Coordination: Let your Hands dance wi...     True   \n",
       "3    1116700  #4 Piano Hand Coordination: Fun Piano Runs in ...     True   \n",
       "4    1120410  #5  Piano Hand Coordination:  Piano Runs in 2 ...     True   \n",
       "\n",
       "  price  num_subscribers  num_reviews  num_lectures               level  \\\n",
       "0    35             3137           18            68          All Levels   \n",
       "1    75             1593            1            41  Intermediate Level   \n",
       "2    75              482            1            47  Intermediate Level   \n",
       "3    75              850            3            43  Intermediate Level   \n",
       "4    75              940            3            32  Intermediate Level   \n",
       "\n",
       "  content_duration   published_timestamp              subject  \n",
       "0        1.5 hours  2014-09-18T05:07:05Z  Musical Instruments  \n",
       "1           1 hour  2017-04-12T19:06:34Z  Musical Instruments  \n",
       "2        1.5 hours  2017-04-26T18:34:57Z  Musical Instruments  \n",
       "3           1 hour  2017-02-21T23:48:18Z  Musical Instruments  \n",
       "4          37 mins  2017-02-21T23:44:49Z  Musical Instruments  "
      ]
     },
     "execution_count": 2,
     "metadata": {},
     "output_type": "execute_result"
    }
   ],
   "source": [
    "import pandas as pd\n",
    "df=pd.read_csv('Udemy.csv')\n",
    "df.head()"
   ]
  },
  {
   "cell_type": "code",
   "execution_count": 5,
   "id": "1e6660f2",
   "metadata": {},
   "outputs": [
    {
     "data": {
      "text/plain": [
       "Web Development        1200\n",
       "Business Finance       1199\n",
       "Musical Instruments     680\n",
       "Graphic Design          603\n",
       "Name: subject, dtype: int64"
      ]
     },
     "execution_count": 5,
     "metadata": {},
     "output_type": "execute_result"
    }
   ],
   "source": [
    "df['subject'].value_counts()#different courses offered by Udemy"
   ]
  },
  {
   "cell_type": "code",
   "execution_count": 14,
   "id": "27883a9e",
   "metadata": {},
   "outputs": [
    {
     "data": {
      "text/plain": [
       "'Web Development'"
      ]
     },
     "execution_count": 14,
     "metadata": {},
     "output_type": "execute_result"
    }
   ],
   "source": [
    "df['subject'].max()# subject having max no of courses"
   ]
  },
  {
   "cell_type": "code",
   "execution_count": 20,
   "id": "16c133a3",
   "metadata": {},
   "outputs": [
    {
     "data": {
      "text/plain": [
       "course_id  course_title                                                  is_paid  price  num_subscribers  num_reviews  num_lectures  level           content_duration  published_timestamp   subject         \n",
       "17349      Figure Drawing From Life Using The Reilly Technique.          False    Free   47811            1041         22            All Levels      2.5 hours         2012-05-09T18:14:57Z  Graphic Design      1\n",
       "890810     Practical Understanding of PHP and MySQL                      False    Free   12201            217          24            Beginner Level  5.5 hours         2016-07-06T16:35:25Z  Web Development     1\n",
       "919906     Trading Options For Consistent Returns: Options Basics        False    Free   4077             281          20            Beginner Level  1.5 hours         2016-08-18T21:57:04Z  Business Finance    1\n",
       "915206     MetaTrader4 Platform Training                                 False    Free   1819             45           15            Beginner Level  1.5 hours         2016-09-21T19:16:59Z  Business Finance    1\n",
       "911318     Master ECMAScript 2015 (ES6)                                  False    Free   7438             441          37            All Levels      2.5 hours         2016-11-28T22:10:27Z  Web Development     1\n",
       "                                                                                                                                                                                                                ..\n",
       "473160     Web Design for Web Developers: Build Beautiful Websites!      False    Free   98867            6512         20            All Levels      3 hours           2015-04-13T18:29:47Z  Web Development     1\n",
       "471428     Crash Course on Cost of Capital and Capital Structuring       False    Free   5007             41           19            All Levels      3 hours           2015-04-13T17:52:57Z  Business Finance    1\n",
       "470288     EMMET Faster HTML & CSS workflow - Best Tool For Developers   False    Free   26697            1097         20            All Levels      1 hour            2015-04-09T16:36:06Z  Web Development     1\n",
       "465870     Beginning Oracle WebLogic for Administrators                  False    Free   9786             989          7             Beginner Level  42 mins           2015-04-15T18:28:50Z  Web Development     1\n",
       "1268616    Condor Broken Wing Butterfly Options Trading Course System    False    Free   16               0            15            All Levels      1.5 hours         2017-07-06T19:47:16Z  Business Finance    1\n",
       "Length: 310, dtype: int64"
      ]
     },
     "execution_count": 20,
     "metadata": {},
     "output_type": "execute_result"
    }
   ],
   "source": [
    "df[df['price']=='Free'].value_counts()#free courses"
   ]
  },
  {
   "cell_type": "code",
   "execution_count": 34,
   "id": "257a7284",
   "metadata": {},
   "outputs": [
    {
     "data": {
      "text/plain": [
       "course_id  course_title                                                  is_paid  price  num_subscribers  num_reviews  num_lectures  level           content_duration  published_timestamp   subject         \n",
       "1035638    Understanding Financial Statements                            True     25     0                0            10            All Levels      1 hour            2016-12-15T14:56:17Z  Business Finance    2\n",
       "185526     MicroStation - Células                                        True     20     0                0            9             Beginner Level  37 mins           2014-04-15T21:48:55Z  Graphic Design      2\n",
       "837322     Essentials of money value: Get a financial Life !             True     20     0                0            20            All Levels      37 mins           2016-05-16T18:28:30Z  Business Finance    2\n",
       "1084454    CFA Level 2- Quantitative Methods                             True     40     0                0            35            All Levels      5.5 hours         2017-07-02T14:29:35Z  Business Finance    2\n",
       "1157298    Introduction to Forex Trading Business For Beginners          True     20     0                0            27            Beginner Level  1.5 hours         2017-04-23T16:19:01Z  Business Finance    2\n",
       "                                                                                                                                                                                                                ..\n",
       "517938     Algorithmic Trading in MATLAB: WFAToolbox App GUI (Finance)   True     20     1749             41           21            All Levels      1 hour            2015-06-23T22:37:31Z  Business Finance    1\n",
       "518188     An Easy Introduction to Adobe Photoshop                       True     20     1                0            6             Beginner Level  1 hour            2015-07-07T00:14:56Z  Graphic Design      1\n",
       "518870     How to create flat design icons in 15 minutes in Illustrator  True     195    2228             96           51            All Levels      4.5 hours         2015-06-22T23:52:21Z  Graphic Design      1\n",
       "518886     MQL4 Tutorial Golden Goose                                    True     20     135              5            12            Beginner Level  1.5 hours         2015-06-07T19:32:46Z  Business Finance    1\n",
       "1282064    Cryptocurrency (BTC & ETH) Investment & Trading Course 2017   True     20     0                0            7             Beginner Level  2.5 hours         2017-07-06T21:46:30Z  Business Finance    1\n",
       "Length: 3366, dtype: int64"
      ]
     },
     "execution_count": 34,
     "metadata": {},
     "output_type": "execute_result"
    }
   ],
   "source": [
    "df[df['price']!='Free'].value_counts()#paid courses\n"
   ]
  },
  {
   "cell_type": "code",
   "execution_count": 44,
   "id": "9de6ceec",
   "metadata": {
    "scrolled": true
   },
   "outputs": [
    {
     "data": {
      "text/plain": [
       "course_title       ７日でマスター  ビギナー向け Adobe Illustrator　どきどきセミナー\n",
       "num_subscribers                                        268923\n",
       "dtype: object"
      ]
     },
     "execution_count": 44,
     "metadata": {},
     "output_type": "execute_result"
    }
   ],
   "source": [
    "df[['course_title','num_subscribers']].max() # top selling course"
   ]
  },
  {
   "cell_type": "code",
   "execution_count": 45,
   "id": "fdce1113",
   "metadata": {},
   "outputs": [
    {
     "data": {
      "text/plain": [
       "course_title       #1 Piano Hand Coordination: Play 10th Ballad i...\n",
       "num_subscribers                                                    0\n",
       "dtype: object"
      ]
     },
     "execution_count": 45,
     "metadata": {},
     "output_type": "execute_result"
    }
   ],
   "source": [
    "df[['course_title','num_subscribers']].min()# least selling course"
   ]
  },
  {
   "cell_type": "code",
   "execution_count": 72,
   "id": "6fe04d12",
   "metadata": {},
   "outputs": [
    {
     "ename": "TypeError",
     "evalue": "'<' not supported between instances of 'str' and 'int'",
     "output_type": "error",
     "traceback": [
      "\u001b[1;31m---------------------------------------------------------------------------\u001b[0m",
      "\u001b[1;31mTypeError\u001b[0m                                 Traceback (most recent call last)",
      "\u001b[1;32m~\\AppData\\Local\\Temp/ipykernel_14504/3788430585.py\u001b[0m in \u001b[0;36m<module>\u001b[1;34m\u001b[0m\n\u001b[0;32m      1\u001b[0m \u001b[0mdt\u001b[0m\u001b[1;33m=\u001b[0m\u001b[0mdf\u001b[0m\u001b[1;33m[\u001b[0m\u001b[1;34m'price'\u001b[0m\u001b[1;33m]\u001b[0m\u001b[1;33m.\u001b[0m\u001b[0mreplace\u001b[0m\u001b[1;33m(\u001b[0m\u001b[1;33m{\u001b[0m\u001b[1;34m'Free'\u001b[0m\u001b[1;33m:\u001b[0m\u001b[1;36m0\u001b[0m\u001b[1;33m}\u001b[0m\u001b[1;33m,\u001b[0m\u001b[0minplace\u001b[0m\u001b[1;33m=\u001b[0m\u001b[1;32mTrue\u001b[0m\u001b[1;33m)\u001b[0m\u001b[1;33m\u001b[0m\u001b[1;33m\u001b[0m\u001b[0m\n\u001b[1;32m----> 2\u001b[1;33m \u001b[0mdt\u001b[0m\u001b[1;33m[\u001b[0m\u001b[0mdf\u001b[0m\u001b[1;33m[\u001b[0m\u001b[1;34m\"price\"\u001b[0m\u001b[1;33m]\u001b[0m\u001b[1;33m<\u001b[0m\u001b[1;36m100\u001b[0m\u001b[1;33m]\u001b[0m\u001b[1;33m\u001b[0m\u001b[1;33m\u001b[0m\u001b[0m\n\u001b[0m",
      "\u001b[1;32m~\\Documents\\anaconda\\lib\\site-packages\\pandas\\core\\ops\\common.py\u001b[0m in \u001b[0;36mnew_method\u001b[1;34m(self, other)\u001b[0m\n\u001b[0;32m     67\u001b[0m         \u001b[0mother\u001b[0m \u001b[1;33m=\u001b[0m \u001b[0mitem_from_zerodim\u001b[0m\u001b[1;33m(\u001b[0m\u001b[0mother\u001b[0m\u001b[1;33m)\u001b[0m\u001b[1;33m\u001b[0m\u001b[1;33m\u001b[0m\u001b[0m\n\u001b[0;32m     68\u001b[0m \u001b[1;33m\u001b[0m\u001b[0m\n\u001b[1;32m---> 69\u001b[1;33m         \u001b[1;32mreturn\u001b[0m \u001b[0mmethod\u001b[0m\u001b[1;33m(\u001b[0m\u001b[0mself\u001b[0m\u001b[1;33m,\u001b[0m \u001b[0mother\u001b[0m\u001b[1;33m)\u001b[0m\u001b[1;33m\u001b[0m\u001b[1;33m\u001b[0m\u001b[0m\n\u001b[0m\u001b[0;32m     70\u001b[0m \u001b[1;33m\u001b[0m\u001b[0m\n\u001b[0;32m     71\u001b[0m     \u001b[1;32mreturn\u001b[0m \u001b[0mnew_method\u001b[0m\u001b[1;33m\u001b[0m\u001b[1;33m\u001b[0m\u001b[0m\n",
      "\u001b[1;32m~\\Documents\\anaconda\\lib\\site-packages\\pandas\\core\\arraylike.py\u001b[0m in \u001b[0;36m__lt__\u001b[1;34m(self, other)\u001b[0m\n\u001b[0;32m     38\u001b[0m     \u001b[1;33m@\u001b[0m\u001b[0munpack_zerodim_and_defer\u001b[0m\u001b[1;33m(\u001b[0m\u001b[1;34m\"__lt__\"\u001b[0m\u001b[1;33m)\u001b[0m\u001b[1;33m\u001b[0m\u001b[1;33m\u001b[0m\u001b[0m\n\u001b[0;32m     39\u001b[0m     \u001b[1;32mdef\u001b[0m \u001b[0m__lt__\u001b[0m\u001b[1;33m(\u001b[0m\u001b[0mself\u001b[0m\u001b[1;33m,\u001b[0m \u001b[0mother\u001b[0m\u001b[1;33m)\u001b[0m\u001b[1;33m:\u001b[0m\u001b[1;33m\u001b[0m\u001b[1;33m\u001b[0m\u001b[0m\n\u001b[1;32m---> 40\u001b[1;33m         \u001b[1;32mreturn\u001b[0m \u001b[0mself\u001b[0m\u001b[1;33m.\u001b[0m\u001b[0m_cmp_method\u001b[0m\u001b[1;33m(\u001b[0m\u001b[0mother\u001b[0m\u001b[1;33m,\u001b[0m \u001b[0moperator\u001b[0m\u001b[1;33m.\u001b[0m\u001b[0mlt\u001b[0m\u001b[1;33m)\u001b[0m\u001b[1;33m\u001b[0m\u001b[1;33m\u001b[0m\u001b[0m\n\u001b[0m\u001b[0;32m     41\u001b[0m \u001b[1;33m\u001b[0m\u001b[0m\n\u001b[0;32m     42\u001b[0m     \u001b[1;33m@\u001b[0m\u001b[0munpack_zerodim_and_defer\u001b[0m\u001b[1;33m(\u001b[0m\u001b[1;34m\"__le__\"\u001b[0m\u001b[1;33m)\u001b[0m\u001b[1;33m\u001b[0m\u001b[1;33m\u001b[0m\u001b[0m\n",
      "\u001b[1;32m~\\Documents\\anaconda\\lib\\site-packages\\pandas\\core\\series.py\u001b[0m in \u001b[0;36m_cmp_method\u001b[1;34m(self, other, op)\u001b[0m\n\u001b[0;32m   5500\u001b[0m \u001b[1;33m\u001b[0m\u001b[0m\n\u001b[0;32m   5501\u001b[0m         \u001b[1;32mwith\u001b[0m \u001b[0mnp\u001b[0m\u001b[1;33m.\u001b[0m\u001b[0merrstate\u001b[0m\u001b[1;33m(\u001b[0m\u001b[0mall\u001b[0m\u001b[1;33m=\u001b[0m\u001b[1;34m\"ignore\"\u001b[0m\u001b[1;33m)\u001b[0m\u001b[1;33m:\u001b[0m\u001b[1;33m\u001b[0m\u001b[1;33m\u001b[0m\u001b[0m\n\u001b[1;32m-> 5502\u001b[1;33m             \u001b[0mres_values\u001b[0m \u001b[1;33m=\u001b[0m \u001b[0mops\u001b[0m\u001b[1;33m.\u001b[0m\u001b[0mcomparison_op\u001b[0m\u001b[1;33m(\u001b[0m\u001b[0mlvalues\u001b[0m\u001b[1;33m,\u001b[0m \u001b[0mrvalues\u001b[0m\u001b[1;33m,\u001b[0m \u001b[0mop\u001b[0m\u001b[1;33m)\u001b[0m\u001b[1;33m\u001b[0m\u001b[1;33m\u001b[0m\u001b[0m\n\u001b[0m\u001b[0;32m   5503\u001b[0m \u001b[1;33m\u001b[0m\u001b[0m\n\u001b[0;32m   5504\u001b[0m         \u001b[1;32mreturn\u001b[0m \u001b[0mself\u001b[0m\u001b[1;33m.\u001b[0m\u001b[0m_construct_result\u001b[0m\u001b[1;33m(\u001b[0m\u001b[0mres_values\u001b[0m\u001b[1;33m,\u001b[0m \u001b[0mname\u001b[0m\u001b[1;33m=\u001b[0m\u001b[0mres_name\u001b[0m\u001b[1;33m)\u001b[0m\u001b[1;33m\u001b[0m\u001b[1;33m\u001b[0m\u001b[0m\n",
      "\u001b[1;32m~\\Documents\\anaconda\\lib\\site-packages\\pandas\\core\\ops\\array_ops.py\u001b[0m in \u001b[0;36mcomparison_op\u001b[1;34m(left, right, op)\u001b[0m\n\u001b[0;32m    282\u001b[0m \u001b[1;33m\u001b[0m\u001b[0m\n\u001b[0;32m    283\u001b[0m     \u001b[1;32melif\u001b[0m \u001b[0mis_object_dtype\u001b[0m\u001b[1;33m(\u001b[0m\u001b[0mlvalues\u001b[0m\u001b[1;33m.\u001b[0m\u001b[0mdtype\u001b[0m\u001b[1;33m)\u001b[0m \u001b[1;32mor\u001b[0m \u001b[0misinstance\u001b[0m\u001b[1;33m(\u001b[0m\u001b[0mrvalues\u001b[0m\u001b[1;33m,\u001b[0m \u001b[0mstr\u001b[0m\u001b[1;33m)\u001b[0m\u001b[1;33m:\u001b[0m\u001b[1;33m\u001b[0m\u001b[1;33m\u001b[0m\u001b[0m\n\u001b[1;32m--> 284\u001b[1;33m         \u001b[0mres_values\u001b[0m \u001b[1;33m=\u001b[0m \u001b[0mcomp_method_OBJECT_ARRAY\u001b[0m\u001b[1;33m(\u001b[0m\u001b[0mop\u001b[0m\u001b[1;33m,\u001b[0m \u001b[0mlvalues\u001b[0m\u001b[1;33m,\u001b[0m \u001b[0mrvalues\u001b[0m\u001b[1;33m)\u001b[0m\u001b[1;33m\u001b[0m\u001b[1;33m\u001b[0m\u001b[0m\n\u001b[0m\u001b[0;32m    285\u001b[0m \u001b[1;33m\u001b[0m\u001b[0m\n\u001b[0;32m    286\u001b[0m     \u001b[1;32melse\u001b[0m\u001b[1;33m:\u001b[0m\u001b[1;33m\u001b[0m\u001b[1;33m\u001b[0m\u001b[0m\n",
      "\u001b[1;32m~\\Documents\\anaconda\\lib\\site-packages\\pandas\\core\\ops\\array_ops.py\u001b[0m in \u001b[0;36mcomp_method_OBJECT_ARRAY\u001b[1;34m(op, x, y)\u001b[0m\n\u001b[0;32m     71\u001b[0m         \u001b[0mresult\u001b[0m \u001b[1;33m=\u001b[0m \u001b[0mlibops\u001b[0m\u001b[1;33m.\u001b[0m\u001b[0mvec_compare\u001b[0m\u001b[1;33m(\u001b[0m\u001b[0mx\u001b[0m\u001b[1;33m.\u001b[0m\u001b[0mravel\u001b[0m\u001b[1;33m(\u001b[0m\u001b[1;33m)\u001b[0m\u001b[1;33m,\u001b[0m \u001b[0my\u001b[0m\u001b[1;33m.\u001b[0m\u001b[0mravel\u001b[0m\u001b[1;33m(\u001b[0m\u001b[1;33m)\u001b[0m\u001b[1;33m,\u001b[0m \u001b[0mop\u001b[0m\u001b[1;33m)\u001b[0m\u001b[1;33m\u001b[0m\u001b[1;33m\u001b[0m\u001b[0m\n\u001b[0;32m     72\u001b[0m     \u001b[1;32melse\u001b[0m\u001b[1;33m:\u001b[0m\u001b[1;33m\u001b[0m\u001b[1;33m\u001b[0m\u001b[0m\n\u001b[1;32m---> 73\u001b[1;33m         \u001b[0mresult\u001b[0m \u001b[1;33m=\u001b[0m \u001b[0mlibops\u001b[0m\u001b[1;33m.\u001b[0m\u001b[0mscalar_compare\u001b[0m\u001b[1;33m(\u001b[0m\u001b[0mx\u001b[0m\u001b[1;33m.\u001b[0m\u001b[0mravel\u001b[0m\u001b[1;33m(\u001b[0m\u001b[1;33m)\u001b[0m\u001b[1;33m,\u001b[0m \u001b[0my\u001b[0m\u001b[1;33m,\u001b[0m \u001b[0mop\u001b[0m\u001b[1;33m)\u001b[0m\u001b[1;33m\u001b[0m\u001b[1;33m\u001b[0m\u001b[0m\n\u001b[0m\u001b[0;32m     74\u001b[0m     \u001b[1;32mreturn\u001b[0m \u001b[0mresult\u001b[0m\u001b[1;33m.\u001b[0m\u001b[0mreshape\u001b[0m\u001b[1;33m(\u001b[0m\u001b[0mx\u001b[0m\u001b[1;33m.\u001b[0m\u001b[0mshape\u001b[0m\u001b[1;33m)\u001b[0m\u001b[1;33m\u001b[0m\u001b[1;33m\u001b[0m\u001b[0m\n\u001b[0;32m     75\u001b[0m \u001b[1;33m\u001b[0m\u001b[0m\n",
      "\u001b[1;32m~\\Documents\\anaconda\\lib\\site-packages\\pandas\\_libs\\ops.pyx\u001b[0m in \u001b[0;36mpandas._libs.ops.scalar_compare\u001b[1;34m()\u001b[0m\n",
      "\u001b[1;31mTypeError\u001b[0m: '<' not supported between instances of 'str' and 'int'"
     ]
    }
   ],
   "source": [
    "df['price'].replace({'Free':0},inplace=True)\n",
    "df[\"price\"]<100]"
   ]
  },
  {
   "cell_type": "code",
   "execution_count": 16,
   "id": "be25855e",
   "metadata": {},
   "outputs": [
    {
     "data": {
      "text/plain": [
       "course_id  course_title                                                  is_paid  price  num_subscribers  num_reviews  num_lectures  level               content_duration  published_timestamp   subject         \n",
       "70640      Python Programming: Create an Digital Marketplace in Django   True     195    4198             145          161           All Levels          26 hours          2013-10-20T19:53:28Z  Web Development     1\n",
       "477702     Python for Beginners: Python Programming Language | Tutorial  True     150    6153             125          84            Beginner Level      5 hours           2015-06-14T18:18:57Z  Web Development     1\n",
       "523312     Python Web Programming                                        True     100    1020             46           60            Beginner Level      6 hours           2015-07-01T21:46:36Z  Web Development     1\n",
       "529828     Python for Trading & Investing                                True     95     638              25           36            All Levels          5 hours           2015-06-17T22:23:31Z  Business Finance    1\n",
       "822444     Python and Django Full Stack Web Developer Bootcamp           True     200    11832            1883         191           All Levels          31.5 hours        2017-02-24T18:40:55Z  Web Development     1\n",
       "1035472    Python for Finance: Investment Fundamentals & Data Analytics  True     195    3811             278          103           All Levels          6.5 hours         2017-03-30T22:17:09Z  Business Finance    1\n",
       "1070886    Python Algo Trading: FX Trading with Oanda                    True     200    453              42           33            Intermediate Level  3 hours           2017-03-14T00:39:45Z  Business Finance    1\n",
       "1170894    Python Algo Stock Trading: Automate Your Trading!             True     95     1165             21           41            Beginner Level      2.5 hours         2017-05-28T23:41:03Z  Business Finance    1\n",
       "1196544    Python Algo Trading: Sentiment Trading with News              True     200    294              19           42            All Levels          7 hours           2017-04-28T16:41:44Z  Business Finance    1\n",
       "dtype: int64"
      ]
     },
     "execution_count": 16,
     "metadata": {},
     "output_type": "execute_result"
    }
   ],
   "source": [
    "df[df[\"course_title\"].apply(lambda x:x[:6]=='Python')].value_counts()# courses related to python"
   ]
  },
  {
   "cell_type": "code",
   "execution_count": 26,
   "id": "4b976cda",
   "metadata": {},
   "outputs": [
    {
     "data": {
      "text/plain": [
       "course_id  course_title                                                  is_paid  price  num_subscribers  num_reviews  num_lectures  level               content_duration  published_timestamp   subject            \n",
       "43291      La costruzione del budget di una proposta comunitaria         True     50     10               1            5             Intermediate Level  1 hour            2015-01-30T16:29:35Z  Business Finance       1\n",
       "584786     JavaScript HTML CSS Project make a Quiz Tutorial              True     95     7130             39           24            All Levels          2 hours           2015-08-18T18:37:17Z  Web Development        1\n",
       "581352     Creating Icons with Adobe Illustrator                         True     30     2266             26           10            All Levels          1 hour            2015-08-13T18:54:20Z  Graphic Design         1\n",
       "581498     Contabilidad Gubernamental en México                          True     30     270              22           24            All Levels          3.5 hours         2015-08-14T19:29:24Z  Business Finance       1\n",
       "581598     Commodity Futures Day Trading Strategies                      True     95     91               5            28            All Levels          5 hours           2015-08-28T23:47:29Z  Business Finance       1\n",
       "                                                                                                                                                                                                                       ..\n",
       "475914     Chugging - it don't mean a thing if it ain't got that swing!  True     200    382              21           25            All Levels          2.5 hours         2015-04-20T18:28:10Z  Musical Instruments    1\n",
       "476000     Easy Piano for Kids - Complete Beginner Piano Course          True     115    139              8            104           Beginner Level      5.5 hours         2015-06-26T22:34:55Z  Musical Instruments    1\n",
       "476256     Stock Options Trades Using Interactive Brokers                True     95     1580             26           14            Intermediate Level  1 hour            2015-09-07T20:21:39Z  Business Finance       1\n",
       "476268     Options Trading 3 : Advanced Stock Profit and Success Method  True     195    5172             34           38            Expert Level        2.5 hours         2015-05-28T00:14:03Z  Business Finance       1\n",
       "710486     jQuery for Absolute Beginners - Lite                          True     20     1769             49           7             All Levels          35 mins           2015-12-30T20:13:46Z  Web Development        1\n",
       "Length: 1014, dtype: int64"
      ]
     },
     "execution_count": 26,
     "metadata": {},
     "output_type": "execute_result"
    }
   ],
   "source": [
    "df[df[\"published_timestamp\"].apply(lambda x:x[:4]=='2015')].value_counts() # courses published in 2015"
   ]
  },
  {
   "cell_type": "code",
   "execution_count": 35,
   "id": "461b1b41",
   "metadata": {},
   "outputs": [
    {
     "data": {
      "text/plain": [
       "268923                1\n",
       "Intermediate Level    1\n",
       "dtype: int64"
      ]
     },
     "execution_count": 35,
     "metadata": {},
     "output_type": "execute_result"
    }
   ],
   "source": [
    "df[['num_subscribers','level']].max().value_counts()"
   ]
  }
 ],
 "metadata": {
  "kernelspec": {
   "display_name": "Python 3 (ipykernel)",
   "language": "python",
   "name": "python3"
  },
  "language_info": {
   "codemirror_mode": {
    "name": "ipython",
    "version": 3
   },
   "file_extension": ".py",
   "mimetype": "text/x-python",
   "name": "python",
   "nbconvert_exporter": "python",
   "pygments_lexer": "ipython3",
   "version": "3.9.7"
  }
 },
 "nbformat": 4,
 "nbformat_minor": 5
}
