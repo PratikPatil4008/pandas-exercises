{
 "cells": [
  {
   "cell_type": "code",
   "execution_count": 50,
   "id": "c255ce49",
   "metadata": {},
   "outputs": [
    {
     "data": {
      "text/plain": [
       "Id                    0\n",
       "EmployeeName          0\n",
       "JobTitle              0\n",
       "BasePay             609\n",
       "OvertimePay           4\n",
       "OtherPay              4\n",
       "TotalPay              0\n",
       "TotalPayBenefits      0\n",
       "Year                  0\n",
       "Agency                0\n",
       "dtype: int64"
      ]
     },
     "execution_count": 50,
     "metadata": {},
     "output_type": "execute_result"
    }
   ],
   "source": [
    "import pandas as pd\n",
    "import numpy as np\n",
    "df=pd.read_csv('Salaries.csv')\n",
    "df.head()\n",
    "#Deleting Unnnecessary Columns\n",
    "dt=df.drop(['Benefits','Notes','Status'],axis=1) #Dropping the column like \"phone\" and \"url\" and saving the new dataset as \"df\"\n",
    "dt\n",
    "dt.isna().sum() #Checking null values\n",
    "\n",
    "\n",
    "\n"
   ]
  },
  {
   "cell_type": "code",
   "execution_count": 58,
   "id": "77bcd4b5",
   "metadata": {},
   "outputs": [],
   "source": [
    "df.fillna(df['BasePay'].mean(),inplace=True)\n",
    "df\n",
    "x=df.to_csv('Salries final.csv')"
   ]
  }
 ],
 "metadata": {
  "kernelspec": {
   "display_name": "Python 3 (ipykernel)",
   "language": "python",
   "name": "python3"
  },
  "language_info": {
   "codemirror_mode": {
    "name": "ipython",
    "version": 3
   },
   "file_extension": ".py",
   "mimetype": "text/x-python",
   "name": "python",
   "nbconvert_exporter": "python",
   "pygments_lexer": "ipython3",
   "version": "3.9.7"
  }
 },
 "nbformat": 4,
 "nbformat_minor": 5
}
